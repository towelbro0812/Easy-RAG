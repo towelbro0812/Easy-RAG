{
 "cells": [
  {
   "cell_type": "markdown",
   "metadata": {},
   "source": [
    "# 超簡易RAG實作"
   ]
  },
  {
   "cell_type": "markdown",
   "metadata": {},
   "source": [
    "## 0. 前置作業"
   ]
  },
  {
   "cell_type": "code",
   "execution_count": 28,
   "metadata": {},
   "outputs": [],
   "source": [
    "import os\n",
    "import shutil\n",
    "from langchain_community.document_loaders import PyPDFDirectoryLoader # 讀取pdf檔案並轉換成文字\n",
    "from langchain_text_splitters import RecursiveCharacterTextSplitter   # 將長文字分割成句子\n",
    "from langchain_chroma import Chroma                                   # 將向量儲存在向量資料庫\n",
    "from langchain_core.documents import Document                         # 文件格式\n",
    "from langchain_core.prompts import ChatPromptTemplate                 # 對話模板\n",
    "from langchain_community.llms.ollama import Ollama\n"
   ]
  },
  {
   "cell_type": "code",
   "execution_count": 3,
   "metadata": {},
   "outputs": [],
   "source": [
    "# 設定路徑\n",
    "CHROMA_PATH = \"chroma\"\n",
    "DATA_PATH = \"data\""
   ]
  },
  {
   "cell_type": "markdown",
   "metadata": {},
   "source": [
    "## 1. 將資料儲存進向量資料庫\n",
    "![](./static/PreProduction.excalidraw.svg)"
   ]
  },
  {
   "cell_type": "markdown",
   "metadata": {},
   "source": [
    "### ❗刪除資料庫 (非必要)"
   ]
  },
  {
   "cell_type": "code",
   "execution_count": 13,
   "metadata": {},
   "outputs": [],
   "source": [
    "if input(\"❗Do you want to remove the chroma directory? (y/n): \").lower == \"y\":\n",
    "    if os.path.exists(CHROMA_PATH):\n",
    "        shutil.rmtree(CHROMA_PATH)\n",
    "    else:\n",
    "        print(\"Chroma directory does not exist.\")"
   ]
  },
  {
   "cell_type": "markdown",
   "metadata": {},
   "source": [
    "### 導入文件"
   ]
  },
  {
   "cell_type": "code",
   "execution_count": 5,
   "metadata": {},
   "outputs": [],
   "source": [
    "documents = PyPDFDirectoryLoader(DATA_PATH).load()"
   ]
  },
  {
   "cell_type": "markdown",
   "metadata": {},
   "source": [
    "### 將文件分塊"
   ]
  },
  {
   "cell_type": "code",
   "execution_count": 6,
   "metadata": {},
   "outputs": [],
   "source": [
    "chunker = RecursiveCharacterTextSplitter(\n",
    "          chunk_size=800,\n",
    "          chunk_overlap=80,\n",
    "          length_function=len,\n",
    "          is_separator_regex=False,\n",
    "          )\n",
    "chunks = chunker.split_documents(documents)"
   ]
  },
  {
   "cell_type": "markdown",
   "metadata": {},
   "source": [
    "### 定義一個Embedding模型"
   ]
  },
  {
   "cell_type": "code",
   "execution_count": 5,
   "metadata": {},
   "outputs": [],
   "source": [
    "from langchain_community.embeddings.ollama import OllamaEmbeddings\n",
    "def get_embedding_function():\n",
    "    embeddings = OllamaEmbeddings(model=\"nomic-embed-text\")\n",
    "    # embeddings = OllamaEmbeddings(model=\"mxbai-embed-large\")\n",
    "    return embeddings"
   ]
  },
  {
   "cell_type": "markdown",
   "metadata": {},
   "source": [
    "### 儲存資料到ChromaDB"
   ]
  },
  {
   "cell_type": "code",
   "execution_count": 8,
   "metadata": {},
   "outputs": [],
   "source": [
    "# Load the existing database.\n",
    "db = Chroma(\n",
    "     persist_directory=CHROMA_PATH,\n",
    "     embedding_function=get_embedding_function()\n",
    "     )"
   ]
  },
  {
   "cell_type": "markdown",
   "metadata": {},
   "source": [
    "計算ID 避免在查看時沒辦法尋找\n",
    "\n",
    "ID格式如下-> 哪個文件 : 第幾頁 : 第幾塊"
   ]
  },
  {
   "cell_type": "code",
   "execution_count": 9,
   "metadata": {},
   "outputs": [],
   "source": [
    "def calculate_chunk_ids(chunks):\n",
    "\n",
    "    # This will create IDs like \"data/monopoly.pdf:6:2\"\n",
    "    # Page Source : Page Number : Chunk Index\n",
    "\n",
    "    last_page_id = None\n",
    "    current_chunk_index = 0\n",
    "\n",
    "    for chunk in chunks:\n",
    "        source = chunk.metadata.get(\"source\")\n",
    "        page = chunk.metadata.get(\"page\")\n",
    "        current_page_id = f\"{source}:{page}\"\n",
    "\n",
    "        # If the page ID is the same as the last one, increment the index.\n",
    "        if current_page_id == last_page_id:\n",
    "            current_chunk_index += 1\n",
    "        else:\n",
    "            current_chunk_index = 0\n",
    "\n",
    "        # Calculate the chunk ID.\n",
    "        chunk_id = f\"{current_page_id}:{current_chunk_index}\"\n",
    "        last_page_id = current_page_id\n",
    "\n",
    "        # Add it to the page meta-data.\n",
    "        chunk.metadata[\"id\"] = chunk_id\n",
    "\n",
    "    return chunks"
   ]
  },
  {
   "cell_type": "code",
   "execution_count": 10,
   "metadata": {},
   "outputs": [],
   "source": [
    "chunks_with_ids = calculate_chunk_ids(chunks)"
   ]
  },
  {
   "cell_type": "markdown",
   "metadata": {},
   "source": [
    "顯示現有的向量資料庫內容個數"
   ]
  },
  {
   "cell_type": "code",
   "execution_count": 11,
   "metadata": {},
   "outputs": [
    {
     "name": "stdout",
     "output_type": "stream",
     "text": [
      "Number of existing documents in DB: 0\n"
     ]
    }
   ],
   "source": [
    "existing_items = db.get(include=[])  # IDs are always included by default\n",
    "existing_ids = set(existing_items[\"ids\"])\n",
    "print(f\"Number of existing documents in DB: {len(existing_ids)}\")"
   ]
  },
  {
   "cell_type": "markdown",
   "metadata": {},
   "source": [
    "只新增從未出現過的文件，有新增過的文件不再新增"
   ]
  },
  {
   "cell_type": "code",
   "execution_count": 12,
   "metadata": {},
   "outputs": [
    {
     "name": "stdout",
     "output_type": "stream",
     "text": [
      "👉 Adding new documents: 41\n"
     ]
    }
   ],
   "source": [
    "new_chunks = []\n",
    "for chunk in chunks_with_ids:\n",
    "    if chunk.metadata[\"id\"] not in existing_ids:\n",
    "        new_chunks.append(chunk)\n",
    "\n",
    "if len(new_chunks):\n",
    "    print(f\"👉 Adding new documents: {len(new_chunks)}\")\n",
    "    new_chunk_ids = [chunk.metadata[\"id\"] for chunk in new_chunks]\n",
    "    db.add_documents(new_chunks, ids=new_chunk_ids)\n",
    "    print(\"✅ Done\")\n",
    "else:\n",
    "    print(\"✅ No new documents to add\")"
   ]
  },
  {
   "cell_type": "markdown",
   "metadata": {},
   "source": [
    "## 2. 尋找向量資料庫內容\n",
    "![](./static/InProduction1.excalidraw.svg)"
   ]
  },
  {
   "cell_type": "markdown",
   "metadata": {},
   "source": [
    "### 載入資料庫"
   ]
  },
  {
   "cell_type": "code",
   "execution_count": 18,
   "metadata": {},
   "outputs": [],
   "source": [
    "db = Chroma(persist_directory=CHROMA_PATH, \n",
    "            embedding_function = get_embedding_function()\n",
    "           )"
   ]
  },
  {
   "cell_type": "markdown",
   "metadata": {},
   "source": [
    "### 搜尋資料庫"
   ]
  },
  {
   "cell_type": "code",
   "execution_count": 19,
   "metadata": {},
   "outputs": [],
   "source": [
    "# 輸入想問的問題\n",
    "user_query = \"How much total money does a player start with in Monopoly? (Answer with the number only)\""
   ]
  },
  {
   "cell_type": "code",
   "execution_count": 22,
   "metadata": {},
   "outputs": [
    {
     "name": "stdout",
     "output_type": "stream",
     "text": [
      "SIM:227.124\t metadata: {'id': 'data\\\\monopoly.pdf:0:0', 'page': 0, 'source': 'data\\\\monopoly.pdf'}\n",
      "SIM:249.217\t metadata: {'id': 'data\\\\monopoly.pdf:0:1', 'page': 0, 'source': 'data\\\\monopoly.pdf'}\n",
      "SIM:261.994\t metadata: {'id': 'data\\\\monopoly.pdf:2:0', 'page': 2, 'source': 'data\\\\monopoly.pdf'}\n",
      "SIM:265.650\t metadata: {'id': 'data\\\\monopoly.pdf:1:2', 'page': 1, 'source': 'data\\\\monopoly.pdf'}\n",
      "SIM:268.354\t metadata: {'id': 'data\\\\monopoly.pdf:2:1', 'page': 2, 'source': 'data\\\\monopoly.pdf'}\n"
     ]
    }
   ],
   "source": [
    "results = db.similarity_search_with_score(user_query, k=5) # k=5 代表取前五個最相似的結果(可以自行調整)\n",
    "for result,score in results:\n",
    "    print(f\"SIM:{score:.3f}\\t metadata: {result.metadata}\")\n",
    "    # print(result.page_content) # 如果要看原文的話，可以把這行的註解拿掉"
   ]
  },
  {
   "cell_type": "markdown",
   "metadata": {},
   "source": [
    "## 3. 讓LLM根據搜尋結果回答問題\n",
    "![](./static/InProduction2.excalidraw.svg)"
   ]
  },
  {
   "cell_type": "markdown",
   "metadata": {},
   "source": [
    "#### 建立一個提示詞模板"
   ]
  },
  {
   "cell_type": "code",
   "execution_count": 26,
   "metadata": {},
   "outputs": [],
   "source": [
    "PROMPT_TEMPLATE = \"\"\"\n",
    "Answer the question based only on the following context:\n",
    "\n",
    "{context}\n",
    "\n",
    "---\n",
    "\n",
    "Answer the question based on the above context: {question}\n",
    "\"\"\""
   ]
  },
  {
   "cell_type": "markdown",
   "metadata": {},
   "source": [
    "#### 將找到的答案套入模板"
   ]
  },
  {
   "cell_type": "code",
   "execution_count": 27,
   "metadata": {},
   "outputs": [
    {
     "data": {
      "text/plain": [
       "'Human: \\nAnswer the question based only on the following context:\\n\\nMONOPOLY \\nProperty Trading Game from Parker Brothers\" \\nAGES 8+ \\n2 to 8 Players \\nContents: Gameboard, 3 dice, tokens, 32 houses, I2 hotels, Chance \\nand Community Chest cards, Title Deed cards, play money and a Banker\\'s tray. \\nNow there\\'s a faster way to play MONOPOLY. Choose to play by \\nthe classic rules for buying, renting and selling properties or use the \\nSpeed Die to get into the action faster. If you\\'ve never played the classic \\nMONOPOLY game, refer to the Classic Rules beginning on the next page. \\nIf you already know how to play and want to use the Speed Die, just \\nread the section below for the additional Speed Die rules. \\nSPEED DIE RULES \\nLearnins how to Play with the S~eed Die IS as \\n/ \\nfast as playing with i\\'t. \\n1. When starting the game, hand out an extra $1,000 to each player\\n\\n---\\n\\n1. When starting the game, hand out an extra $1,000 to each player \\n(two $5005 should work). The game moves fast and you\\'ll need \\nthe extra cash to buy and build. \\n2. Do not use the Speed Die until you\\'ve landed on or passed over \\nGO for the first time. Once you collect that first $200 salary, you\\'ll \\nuse the Speed Die for the rest of the game. This means that some \\nplayers will start using the die before others. \\n3. Once you start using the Speed Die, roll it along with the two \\nwhite dice on your turn. Then do the following depending on \\nwhat you rolled. \\n1, 2, or 3: Add this number to the roll of the two white \\ndice. You\\'ll zoom around the board.\\n\\n---\\n\\nEach player is given $1,500 divided as follows: P each of $500s, \\n$100~ and $50~; 6 $40~; 5 each of $105, $5~ and $Is. \\nAll remaining money and other equipment go to the Bank. Stack the .. \\nBank\\'s money on edge in the compartments in the plastic Banker\\'s tray. \\nBANKER. Select as Banker a player who will also \\nmake a good Auctioneer A Banker who plays \\n~n the game must keep hislher personal funds \\nseparate from those of the Bank. When more than \\nf~ve persons play, the Banker may elect to act only \\nas Banker and Auctioneer. \\nTHE BANK: Besides the Bank\\'s money, the Bank \\nholds the Title Deed cards and houses and hotels prior to purchase \\nand use by the players. The Bank pays salaries and bonuses. It sells \\nand auctions properties and hands out the~r proper Title Deed cards;\\n\\n---\\n\\nCLASSIC MONOPOW RULES \\nOBJECT: The object of the game IS to become the \\nwealthiest player through buying, renting and selling \\nproperty. \\nPREPARATION: Place the board on a table and put \\nthe Chance and Community Chest cards facedown on \\ntheir allotted spaces on the board. Each player chooses one token to \\nrepresent himther while traveling around the board.\\n\\n---\\n\\nand auctions properties and hands out the~r proper Title Deed cards; \\nit sells houses and hotels to the players and loans money when \\nrequired on mortgages. \\nThe Bank collects all taxes, fines, loans and interest, and the price of \\nall properties which it sells and auctions. \\nThe Bank nwer \"goes broke.\" If the Bank runs out of money, the Banker \\nmay issue as much more as needed by writing on any ordinary paper. \\nTHE PLAY: Starting with the Banker, each player in turn throws the dice. \\nThe player with the highest total starts the play: Place your \\ntoken on the corner marked \"GO,\" throw the dice and move \\nyour token in the direction of the arrow the number of \\nspaces indicated by the dice. After you have completed \\nyour play, the turn passes to the left. The tokens remain\\n\\n---\\n\\nAnswer the question based on the above context: How much total money does a player start with in Monopoly? (Answer with the number only)\\n'"
      ]
     },
     "execution_count": 27,
     "metadata": {},
     "output_type": "execute_result"
    }
   ],
   "source": [
    "context_text = \"\\n\\n---\\n\\n\".join([doc.page_content for doc,score in results])\n",
    "prompt_template = ChatPromptTemplate.from_template(PROMPT_TEMPLATE)\n",
    "prompt = prompt_template.format(context=context_text, question=user_query)\n",
    "prompt"
   ]
  },
  {
   "cell_type": "markdown",
   "metadata": {},
   "source": [
    "#### 建立大語言模型做回覆"
   ]
  },
  {
   "cell_type": "code",
   "execution_count": 29,
   "metadata": {},
   "outputs": [],
   "source": [
    "model = Ollama(model=\"llama3.1\")\n",
    "response_text = model.invoke(prompt)"
   ]
  },
  {
   "cell_type": "code",
   "execution_count": 31,
   "metadata": {},
   "outputs": [
    {
     "name": "stdout",
     "output_type": "stream",
     "text": [
      "Response: 1500\n",
      "Sources: ['data\\\\monopoly.pdf:0:0', 'data\\\\monopoly.pdf:0:1', 'data\\\\monopoly.pdf:2:0', 'data\\\\monopoly.pdf:1:2', 'data\\\\monopoly.pdf:2:1']\n"
     ]
    }
   ],
   "source": [
    "sources = [doc.metadata.get(\"id\", None) for doc,score in results]\n",
    "formatted_response = f\"Response: {response_text}\\nSources: {sources}\"\n",
    "print(formatted_response)"
   ]
  }
 ],
 "metadata": {
  "kernelspec": {
   "display_name": "Python 3",
   "language": "python",
   "name": "python3"
  },
  "language_info": {
   "codemirror_mode": {
    "name": "ipython",
    "version": 3
   },
   "file_extension": ".py",
   "mimetype": "text/x-python",
   "name": "python",
   "nbconvert_exporter": "python",
   "pygments_lexer": "ipython3",
   "version": "3.10.0"
  }
 },
 "nbformat": 4,
 "nbformat_minor": 2
}
